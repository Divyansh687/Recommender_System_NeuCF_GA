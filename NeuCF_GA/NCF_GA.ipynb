{
 "cells": [
  {
   "cell_type": "code",
   "execution_count": 13,
   "metadata": {},
   "outputs": [],
   "source": [
    "import pandas as pd\n",
    "import numpy as np\n",
    "import matplotlib.pyplot as plt\n",
    "import seaborn as sns\n",
    "import sklearn\n",
    "import random\n",
    "import datetime\n",
    "from sklearn.model_selection import train_test_split\n",
    "from sklearn.metrics import accuracy_score\n",
    "import math"
   ]
  },
  {
   "cell_type": "code",
   "execution_count": 14,
   "metadata": {},
   "outputs": [],
   "source": [
    "def dateparse (time_in_secs):\n",
    "    return datetime.datetime.fromtimestamp(float(time_in_secs))"
   ]
  },
  {
   "cell_type": "code",
   "execution_count": 15,
   "metadata": {},
   "outputs": [],
   "source": [
    "rating_data = pd.read_csv('ratings.csv', parse_dates=['timestamp'])\n",
    "movie_data = pd.read_csv('movies.csv')\n",
    "rating_data1 = rating_data.pivot(index='userId',columns='movieId',values='rating')"
   ]
  },
  {
   "cell_type": "code",
   "execution_count": 16,
   "metadata": {},
   "outputs": [
    {
     "name": "stdout",
     "output_type": "stream",
     "text": [
      "<class 'pandas.core.frame.DataFrame'>\n",
      "RangeIndex: 62423 entries, 0 to 62422\n",
      "Data columns (total 3 columns):\n",
      " #   Column   Non-Null Count  Dtype \n",
      "---  ------   --------------  ----- \n",
      " 0   movieId  62423 non-null  int64 \n",
      " 1   title    62423 non-null  object\n",
      " 2   genres   62423 non-null  object\n",
      "dtypes: int64(1), object(2)\n",
      "memory usage: 1.4+ MB\n",
      "<class 'pandas.core.frame.DataFrame'>\n",
      "RangeIndex: 1048575 entries, 0 to 1048574\n",
      "Data columns (total 4 columns):\n",
      " #   Column     Non-Null Count    Dtype  \n",
      "---  ------     --------------    -----  \n",
      " 0   userId     1048575 non-null  int64  \n",
      " 1   movieId    1048575 non-null  int64  \n",
      " 2   rating     1048575 non-null  float64\n",
      " 3   timestamp  1048575 non-null  object \n",
      "dtypes: float64(1), int64(2), object(1)\n",
      "memory usage: 32.0+ MB\n"
     ]
    }
   ],
   "source": [
    "movie_data.info()\n",
    "rating_data.info()"
   ]
  },
  {
   "cell_type": "code",
   "execution_count": 17,
   "metadata": {},
   "outputs": [],
   "source": [
    "import tensorflow as tf\n",
    "from tensorflow import keras\n",
    "from tensorflow.keras import layers"
   ]
  },
  {
   "cell_type": "code",
   "execution_count": 18,
   "metadata": {},
   "outputs": [
    {
     "name": "stderr",
     "output_type": "stream",
     "text": [
      "<ipython-input-18-f95227aa078e>:10: SettingWithCopyWarning: \n",
      "A value is trying to be set on a copy of a slice from a DataFrame.\n",
      "Try using .loc[row_indexer,col_indexer] = value instead\n",
      "\n",
      "See the caveats in the documentation: https://pandas.pydata.org/pandas-docs/stable/user_guide/indexing.html#returning-a-view-versus-a-copy\n",
      "  user_data['user_encoded'] = user_data['userId'].map(user_en)\n",
      "<ipython-input-18-f95227aa078e>:15: SettingWithCopyWarning: \n",
      "A value is trying to be set on a copy of a slice from a DataFrame.\n",
      "Try using .loc[row_indexer,col_indexer] = value instead\n",
      "\n",
      "See the caveats in the documentation: https://pandas.pydata.org/pandas-docs/stable/user_guide/indexing.html#returning-a-view-versus-a-copy\n",
      "  user_data['movie_encoded'] = user_data['movieId'].map(movie_en)\n"
     ]
    }
   ],
   "source": [
    "user_ID = rating_data[\"userId\"].unique().tolist()\n",
    "total_users = len(user_ID)\n",
    "np.random.seed(236)\n",
    "random_user_id = np.random.choice(user_ID, size = int(total_users*0.2), replace=False)\n",
    "user_data = rating_data.loc[rating_data['userId'].isin(random_user_id)]\n",
    "user_ID = user_data['userId'].unique()\n",
    "total_users = len(user_ID)\n",
    "user_en = {x: i for i, x in enumerate(user_ID)}\n",
    "en_user = {i: x for i, x in enumerate(user_ID)}\n",
    "user_data['user_encoded'] = user_data['userId'].map(user_en)\n",
    "movie_ids = user_data['movieId'].unique()\n",
    "total_movies = len(movie_ids)\n",
    "movie_en = {x: i for i, x in enumerate(movie_ids)}\n",
    "en_movie = {i: x for i, x in enumerate(movie_ids)}\n",
    "user_data['movie_encoded'] = user_data['movieId'].map(movie_en)\n",
    "train_data, test_data = train_test_split(user_data, test_size = 0.25, random_state=236)\n",
    "training_users = len(np.unique(train_data['user_encoded']))\n",
    "training_movies = len(np.unique(train_data['movie_encoded']))"
   ]
  },
  {
   "cell_type": "code",
   "execution_count": 19,
   "metadata": {},
   "outputs": [],
   "source": [
    "from keras.models import Model, Sequential\n",
    "from keras.layers import Embedding, Flatten, Input, merge, Dropout, Dense, BatchNormalization, concatenate, dot\n",
    "from tensorflow.keras.optimizers import Adam\n",
    "from tensorflow.keras.constraints import non_neg\n",
    "from tensorflow.keras.utils import plot_model, model_to_dot\n",
    "from sklearn.metrics import mean_squared_error\n",
    "from IPython.display import SVG\n",
    "import os"
   ]
  },
  {
   "cell_type": "code",
   "execution_count": 20,
   "metadata": {},
   "outputs": [],
   "source": [
    "def softmax(data):\n",
    "    e_x = np.exp(data - np.max(data))\n",
    "    return e_x / e_x.sum(axis=0)\n",
    "def softmax_prime(y_true, y_pred):\n",
    "  if y_true == y_pred:\n",
    "    return softmax(y_pred)*(1-softmax(y_pred))\n",
    "  else:\n",
    "    return -1*softmax(y_pred)*softmax(y_true)\n",
    "def relu(data):\n",
    "      data = np.where(data < 0, 0, data)\n",
    "      data = np.where(data >= 0, 1, data)\n",
    "      return data\n",
    "      return np.maximum(0, data)\n",
    "def sigmoid(self, data, derivative=False):\n",
    "    if derivative:\n",
    "        return (np.exp(-data))/((np.exp(-data)+1)**2)\n",
    "    return 1/(1 + np.exp(-data))\n",
    "def tanh(x):\n",
    "    return np.tanh(x)\n",
    "def tanh_prime(x):\n",
    "    return 1-np.tanh(x)**2"
   ]
  },
  {
   "cell_type": "code",
   "execution_count": 21,
   "metadata": {},
   "outputs": [],
   "source": [
    "def cross_entropy_loss(self, y, output):\n",
    "    l_sum = np.sum(np.multiply(y.T, np.log(output)))\n",
    "    m = y.shape[0]\n",
    "    l = -(1./m) * l_sum\n",
    "    return l"
   ]
  },
  {
   "cell_type": "code",
   "execution_count": 22,
   "metadata": {},
   "outputs": [],
   "source": [
    "def Neural_CF_Model(embed_size = 50, drop_out_prob = 0.25):\n",
    "    enter_movie = Input(shape=[1],name='movie-input')\n",
    "    enter_user = Input(shape=[1], name='user-input')\n",
    "    emb_movie = Embedding(total_movies, embed_size,name='movie-embedding-mlp')(enter_movie)\n",
    "    vec_move = Flatten(name='flatten-movie-mlp')(emb_movie)\n",
    "    vec_move = Flatten(name='flatten-movie-mlp')(emb_movie)\n",
    "    emb_user = Embedding(total_users, embed_size,name='user-embedding-mlp')(enter_user)\n",
    "    vec_user = Flatten(name='flatten-user-mlp')(emb_user)\n",
    "    movie_emb = Embedding(total_movies, embed_size,name='movie-embedding-mf')(enter_movie)\n",
    "    movie_vec = Flatten(name='flatten-movie-mf')(movie_emb)\n",
    "    user_embedding_mf = Embedding(total_users, embed_size,name='user-embedding-mf')(enter_user)\n",
    "    user_vec_mf = Flatten(name='flatten-user-mf')(user_embedding_mf)\n",
    "    con_data = concatenate([vec_move, vec_user], axis=-1, name='con_data')\n",
    "    con_dp = Dropout(drop_out_prob)(con_data)\n",
    "    AF1 = Dense(100, name='fc-1', activation='relu')(con_dp)\n",
    "    AF1_BN = BatchNormalization(name='batch-norm-1')(AF1)\n",
    "    AF1_DP = Dropout(drop_out_prob)(AF1_BN)\n",
    "    AF2 = Dense(50, name='fc-2', activation='relu')(AF1_DP)\n",
    "    AF2_BN = BatchNormalization(name='batch-norm-2')(AF2)\n",
    "    AF2_DP = Dropout(drop_out_prob)(AF2_BN)\n",
    "    pred_data = Dense(10, name='pred-mlp', activation='relu')(AF2_DP)\n",
    "    pred_mf_data = dot([movie_vec, user_vec_mf], axes=1, normalize=False)\n",
    "    comb = concatenate([pred_mf_data, pred_data], axis=-1, name='pred_mf_data')\n",
    "    outcome = Dense(1, name='outcome', activation='relu')(comb)\n",
    "    NCF_model = Model([enter_user, enter_movie], outcome)\n",
    "    NCF_model.compile(loss='mean_squared_error', optimizer='Adam')\n",
    "    return NCF_model"
   ]
  },
  {
   "cell_type": "code",
   "execution_count": 23,
   "metadata": {},
   "outputs": [
    {
     "name": "stdout",
     "output_type": "stream",
     "text": [
      "Model: \"model_2\"\n",
      "__________________________________________________________________________________________________\n",
      "Layer (type)                    Output Shape         Param #     Connected to                     \n",
      "==================================================================================================\n",
      "movie-input (InputLayer)        [(None, 1)]          0                                            \n",
      "__________________________________________________________________________________________________\n",
      "user-input (InputLayer)         [(None, 1)]          0                                            \n",
      "__________________________________________________________________________________________________\n",
      "movie-embedding-mlp (Embedding) (None, 1, 50)        624300      movie-input[0][0]                \n",
      "__________________________________________________________________________________________________\n",
      "user-embedding-mlp (Embedding)  (None, 1, 50)        70450       user-input[0][0]                 \n",
      "__________________________________________________________________________________________________\n",
      "flatten-movie-mlp (Flatten)     (None, 50)           0           movie-embedding-mlp[0][0]        \n",
      "__________________________________________________________________________________________________\n",
      "flatten-user-mlp (Flatten)      (None, 50)           0           user-embedding-mlp[0][0]         \n",
      "__________________________________________________________________________________________________\n",
      "con_data (Concatenate)          (None, 100)          0           flatten-movie-mlp[0][0]          \n",
      "                                                                 flatten-user-mlp[0][0]           \n",
      "__________________________________________________________________________________________________\n",
      "dropout_6 (Dropout)             (None, 100)          0           con_data[0][0]                   \n",
      "__________________________________________________________________________________________________\n",
      "fc-1 (Dense)                    (None, 100)          10100       dropout_6[0][0]                  \n",
      "__________________________________________________________________________________________________\n",
      "batch-norm-1 (BatchNormalizatio (None, 100)          400         fc-1[0][0]                       \n",
      "__________________________________________________________________________________________________\n",
      "dropout_7 (Dropout)             (None, 100)          0           batch-norm-1[0][0]               \n",
      "__________________________________________________________________________________________________\n",
      "fc-2 (Dense)                    (None, 50)           5050        dropout_7[0][0]                  \n",
      "__________________________________________________________________________________________________\n",
      "movie-embedding-mf (Embedding)  (None, 1, 50)        624300      movie-input[0][0]                \n",
      "__________________________________________________________________________________________________\n",
      "user-embedding-mf (Embedding)   (None, 1, 50)        70450       user-input[0][0]                 \n",
      "__________________________________________________________________________________________________\n",
      "batch-norm-2 (BatchNormalizatio (None, 50)           200         fc-2[0][0]                       \n",
      "__________________________________________________________________________________________________\n",
      "flatten-movie-mf (Flatten)      (None, 50)           0           movie-embedding-mf[0][0]         \n",
      "__________________________________________________________________________________________________\n",
      "flatten-user-mf (Flatten)       (None, 50)           0           user-embedding-mf[0][0]          \n",
      "__________________________________________________________________________________________________\n",
      "dropout_8 (Dropout)             (None, 50)           0           batch-norm-2[0][0]               \n",
      "__________________________________________________________________________________________________\n",
      "dot_2 (Dot)                     (None, 1)            0           flatten-movie-mf[0][0]           \n",
      "                                                                 flatten-user-mf[0][0]            \n",
      "__________________________________________________________________________________________________\n",
      "pred-mlp (Dense)                (None, 10)           510         dropout_8[0][0]                  \n",
      "__________________________________________________________________________________________________\n",
      "pred_mf_data (Concatenate)      (None, 11)           0           dot_2[0][0]                      \n",
      "                                                                 pred-mlp[0][0]                   \n",
      "__________________________________________________________________________________________________\n",
      "outcome (Dense)                 (None, 1)            12          pred_mf_data[0][0]               \n",
      "==================================================================================================\n",
      "Total params: 1,405,772\n",
      "Trainable params: 1,405,472\n",
      "Non-trainable params: 300\n",
      "__________________________________________________________________________________________________\n"
     ]
    }
   ],
   "source": [
    "model = Neural_CF_Model()\n",
    "model.summary()"
   ]
  },
  {
   "cell_type": "code",
   "execution_count": 24,
   "metadata": {},
   "outputs": [],
   "source": [
    "def recommendations(u,rating_data1,top10):\n",
    "    u1=rating_data1.iloc[u].dropna()\n",
    "    recom=u1.index\n",
    "    for t in top10:\n",
    "        u2=rating_data1.iloc[t].dropna()\n",
    "        recom=recom.union(u2.index)\n",
    "    recom=recom.difference(u1.index)\n",
    "    return recom\n",
    "def findRecommendations2(rating_data1,new2,top10,u):\n",
    "    u1=rating_data1.iloc[u].dropna()\n",
    "    recom=u1.index\n",
    "    for t in top10:\n",
    "        u2=rating_data1.iloc[t].dropna()\n",
    "        recom=recom.union(u2.index)\n",
    "    recom=recom.difference(u1.index)\n",
    "    return recom"
   ]
  },
  {
   "cell_type": "code",
   "execution_count": 25,
   "metadata": {},
   "outputs": [],
   "source": [
    "def fitness_value(pop,Neighbors,recom):\n",
    "    Fitlist,IndCorList=[],[]\n",
    "    for i in range(0,len(pop)):\n",
    "        individual=pop.iloc[i]\n",
    "        IndCorList=pearson_corr(individual,Neighbors,recom)\n",
    "        Fitlist.append(np.mean(IndCorList))\n",
    "    return Fitlist"
   ]
  },
  {
   "cell_type": "code",
   "execution_count": 26,
   "metadata": {},
   "outputs": [],
   "source": [
    "def pearson_corr(u1,rating_data1,recom):\n",
    "      num,std1,std2=0,0,0\n",
    "      Plist=[]\n",
    "      u1=u1.dropna()-(u1.mean())\n",
    "      for n in range(0,len(rating_data1)):\n",
    "        us1,us2=[],[]\n",
    "        u2=rating_data1.iloc[n]\n",
    "        u2=u2.dropna()-(u2.mean())\n",
    "        ind=recom.intersection(u2.index)\n",
    "        for i in range(0,len(ind)):\n",
    "          us1.append(u1.loc[ind[i]])\n",
    "          us2.append(u2.loc[ind[i]])\n",
    "        if len(ind)>2:\n",
    "          num=sum([a*b for a,b in zip(us1,us2)])\n",
    "          std1=np.sqrt(sum([a*b for a,b in zip(us1,us1)]))\n",
    "          std2=np.sqrt(sum([a*b for a,b in zip(us2,us2)]))\n",
    "          sim=(num/(std1*std2))+1\n",
    "        else :sim=0\n",
    "        Plist.append(sim)\n",
    "      return Plist"
   ]
  },
  {
   "cell_type": "code",
   "execution_count": 27,
   "metadata": {},
   "outputs": [],
   "source": [
    "def generate_chromosome(length):\n",
    "  return ''.join(np.random.choice([0,1], length).astype(str).tolist())"
   ]
  },
  {
   "cell_type": "code",
   "execution_count": 28,
   "metadata": {},
   "outputs": [],
   "source": [
    "def generate_population(pop_size, chromosome_length):\n",
    "  return [generate_chromosome(chromosome_length) for i in range (pop_size)]"
   ]
  },
  {
   "cell_type": "code",
   "execution_count": 29,
   "metadata": {},
   "outputs": [
    {
     "data": {
      "text/plain": [
       "'100101110110010'"
      ]
     },
     "execution_count": 29,
     "metadata": {},
     "output_type": "execute_result"
    }
   ],
   "source": [
    "generate_chromosome(15)"
   ]
  },
  {
   "cell_type": "code",
   "execution_count": 30,
   "metadata": {},
   "outputs": [
    {
     "data": {
      "text/plain": [
       "['00000',\n",
       " '01001',\n",
       " '01110',\n",
       " '11110',\n",
       " '10111',\n",
       " '00100',\n",
       " '11000',\n",
       " '01100',\n",
       " '00010',\n",
       " '01100',\n",
       " '00000',\n",
       " '00110',\n",
       " '01001',\n",
       " '10011',\n",
       " '01101']"
      ]
     },
     "execution_count": 30,
     "metadata": {},
     "output_type": "execute_result"
    }
   ],
   "source": [
    "generate_population(15,5)"
   ]
  },
  {
   "cell_type": "code",
   "execution_count": 31,
   "metadata": {},
   "outputs": [],
   "source": [
    "def selection(Evaluations,SortedEvaluations,pop):\n",
    "    Evaluations.sort()\n",
    "    Evaluations\n",
    "    N=len(Evaluations)\n",
    "    TotalFitness=(N+1)*N/2\n",
    "    IndListIndexes,ProbSelection,CumProb,newList,randomy=[],[],[],[],[]\n",
    "    for j in range(N):\n",
    "        x = random.random()\n",
    "        randomy.append(x)\n",
    "    for i in range(N):\n",
    "        if i==0:\n",
    "          ProbSelection.append(1/TotalFitness)\n",
    "          CumProb.append(ProbSelection[i])\n",
    "        else:\n",
    "          ProbSelection.append((i+1)/TotalFitness)\n",
    "          CumProb.append(CumProb[i-1]+ProbSelection[i])\n",
    "    for j in range(N):\n",
    "      if randomy[j]<CumProb[0]:\n",
    "          IndListIndexes.append(0)\n",
    "      else:\n",
    "        for e in range(N-1):\n",
    "            if CumProb[e]<randomy[j] and randomy[j]<=CumProb[e+1] :\n",
    "                IndListIndexes.append(e+1)\n",
    "    newList=SortedEvaluations.iloc[IndListIndexes].index.to_list()\n",
    "    NewPop=pd.DataFrame(pop.iloc[newList])\n",
    "    return NewPop\n"
   ]
  },
  {
   "cell_type": "code",
   "execution_count": 32,
   "metadata": {},
   "outputs": [],
   "source": [
    "def single_point_crossover(chromosome1, chromosome2):\n",
    "  length = len(chromosome1)\n",
    "  point = np.random.randint(1, length)\n",
    "  return (chromosome1[0:point] + chromosome2[point:], chromosome2[0:point] + chromosome1[point:])"
   ]
  },
  {
   "cell_type": "code",
   "execution_count": 33,
   "metadata": {},
   "outputs": [],
   "source": [
    "def crossover(Selected,Pc,pop_size):\n",
    "    offspring1,offspring2,offsprings,generator=[],[],[],[]\n",
    "    for g in range(pop_size):\n",
    "        y = random.random()\n",
    "        generator.append(y)\n",
    "    for i in range(0,len(Selected),2):\n",
    "        offspring1=[]\n",
    "        offspring2=[]\n",
    "        p1=Selected.iloc[i].to_list()\n",
    "        p2=Selected.iloc[i+1].to_list()\n",
    "        p = [p1,p2]\n",
    "        crandomy,randomy=[],[]\n",
    "        for j in range(len(p1)):\n",
    "            x = random.randint(0,1)\n",
    "            randomy.append(x)\n",
    "            crandomy.append(np.abs(randomy[j]-1))\n",
    "        if generator[i]<Pc:\n",
    "          for i in range(len(p[0])):\n",
    "              offspring1.append(p[randomy[i]][i])\n",
    "              offspring2.append(p[crandomy[i]][i])\n",
    "        else:\n",
    "          for i in range(len(p[0])):\n",
    "            offspring1.append(p1[i])\n",
    "            offspring2.append(p2[i])\n",
    "        offsprings.append(offspring1)\n",
    "        offsprings.append(offspring2)\n",
    "    NextGen=pd.DataFrame(offsprings)\n",
    "    NextGen.index=NextGen.index+1\n",
    "    NextGen.columns=columns\n",
    "    NextGen.index.name = 'IndividualID'\n",
    "    return NextGen"
   ]
  },
  {
   "cell_type": "code",
   "execution_count": 34,
   "metadata": {},
   "outputs": [],
   "source": [
    "def mutation(NextGeneration, Pm):\n",
    "    mutArr= np.random.random(size=(NextGeneration.shape))\n",
    "    a=np.nonzero(mutArr <0.01)\n",
    "    NG1=NextGeneration.values\n",
    "    g1=list(NG1[a])\n",
    "    for x in range(len(g1)):\n",
    "      b=random.randint(1,5)\n",
    "      while True:\n",
    "          if b!=g1[x]:\n",
    "            break\n",
    "          else:\n",
    "            b=random.randint(1,5)\n",
    "      g1[x]=b\n",
    "    NG1[a]=g1\n",
    "    NewGeneration=pd.DataFrame(NG1)\n",
    "    NewGeneration.index=NewGeneration.index+1\n",
    "    NewGeneration.index.name = 'NewGenID'\n",
    "    NewGeneration.columns=columns\n",
    "    return NewGeneration"
   ]
  },
  {
   "cell_type": "code",
   "execution_count": 35,
   "metadata": {},
   "outputs": [],
   "source": [
    "def mut(population, probability = 0.5):\n",
    "  num_of_mutations = int(len(population) * probability)\n",
    "  random_nums = np.random.randint(0, len(population), num_of_mutations)\n",
    "  for i in random_nums:\n",
    "    j = np.random.randint(0, len(population[0]))\n",
    "    population[i] = population[i][:j] + str(1-int(population[i][j])) + population[i][j+1:]\n",
    "  return population"
   ]
  },
  {
   "cell_type": "code",
   "execution_count": 36,
   "metadata": {},
   "outputs": [
    {
     "name": "stdout",
     "output_type": "stream",
     "text": [
      "['1011101101', '1101100011', '0010100110', '0001001001']\n",
      "\n",
      " ['1001101101', '1101100010', '0010100110', '0001001001']\n"
     ]
    }
   ],
   "source": [
    "s = generate_population(4,10)\n",
    "print(s)\n",
    "p = mut(s)\n",
    "print('\\n',p)"
   ]
  },
  {
   "cell_type": "code",
   "execution_count": 37,
   "metadata": {},
   "outputs": [],
   "source": [
    "def calculate_error(topology_structure):\n",
    "  return np.random.rand()"
   ]
  },
  {
   "cell_type": "code",
   "execution_count": 38,
   "metadata": {},
   "outputs": [],
   "source": [
    "def calculate_fitness(population):\n",
    "  fitness_values = []\n",
    "  for chromosome in population:\n",
    "    fitness_values.append(1/calculate_error(chromosome))\n",
    "  return fitness_values\n"
   ]
  },
  {
   "cell_type": "code",
   "execution_count": 39,
   "metadata": {},
   "outputs": [],
   "source": [
    "def roulette_wheel_selection(population, fitness_values):\n",
    "  population_fitness = sum(fitness_values)\n",
    "  fitness_values = [val/population_fitness for val in fitness_values]\n",
    "  population = np.random.choice(a = population, p = fitness_values, size = len(population))\n",
    "  return population"
   ]
  },
  {
   "cell_type": "code",
   "execution_count": 40,
   "metadata": {},
   "outputs": [
    {
     "name": "stdout",
     "output_type": "stream",
     "text": [
      "['1100', '0010', '0001', '1110', '0000', '0110', '1001', '1110', '1000', '0011']\n",
      "['1000' '1100' '1000' '1110' '0110' '1000' '1000' '1001' '1100' '1000']\n"
     ]
    }
   ],
   "source": [
    "p=generate_population(10,4)\n",
    "print(p)\n",
    "f=calculate_fitness(p)\n",
    "p2=roulette_wheel_selection(p,f)\n",
    "print(p2)"
   ]
  },
  {
   "cell_type": "code",
   "execution_count": 41,
   "metadata": {},
   "outputs": [],
   "source": [
    "def genetic_algorithm(pop_size, ch_length, generations, mutation_prob):\n",
    "  population = generate_population(pop_size, ch_length)\n",
    "  for i in range(generations):\n",
    "      fitness_values = calculate_fitness(population)\n",
    "      population = roulette_wheel_selection(population, fitness_values)\n",
    "      for i in range(0, len(population), 2):\n",
    "        population[i], population[i+1] = single_point_crossover(population[i], population[i+1])\n",
    "      population = mut(population, mutation_prob)\n",
    "  fitness_values = calculate_fitness(population)\n",
    "  sorted_fitness_idx = np.array(fitness_values).argsort()\n",
    "  population = population[sorted_fitness_idx[::-1]]\n",
    "  return population"
   ]
  },
  {
   "cell_type": "code",
   "execution_count": 42,
   "metadata": {},
   "outputs": [
    {
     "data": {
      "text/plain": [
       "array(['1000', '1000', '1000', '1000', '1000', '1000', '1000', '1000',\n",
       "       '1000', '1000'], dtype='<U4')"
      ]
     },
     "execution_count": 42,
     "metadata": {},
     "output_type": "execute_result"
    }
   ],
   "source": [
    "genetic_algorithm(10, 4, 1, 0.2)"
   ]
  },
  {
   "cell_type": "code",
   "execution_count": 43,
   "metadata": {},
   "outputs": [],
   "source": [
    "def optimum_ann_topology(pop_size, ch_length, generations, mutation_prob):\n",
    "  return genetic_algorithm(pop_size, ch_length, generations, mutation_prob)[0]"
   ]
  },
  {
   "cell_type": "code",
   "execution_count": 44,
   "metadata": {},
   "outputs": [],
   "source": [
    "population_size = 10\n",
    "chromosome_length = 30\n",
    "generations = 10\n",
    "mutation_prob = 0.2"
   ]
  },
  {
   "cell_type": "code",
   "execution_count": 45,
   "metadata": {},
   "outputs": [
    {
     "data": {
      "text/plain": [
       "'101000001001110100101001001010'"
      ]
     },
     "execution_count": 45,
     "metadata": {},
     "output_type": "execute_result"
    }
   ],
   "source": [
    "optimum_ann_topology(population_size, chromosome_length, generations, mutation_prob)"
   ]
  },
  {
   "cell_type": "code",
   "execution_count": 46,
   "metadata": {},
   "outputs": [
    {
     "name": "stdout",
     "output_type": "stream",
     "text": [
      "Epoch 1/10\n",
      "4790/4790 [==============================] - 200s 32ms/step - loss: 2.4086\n",
      "Epoch 2/10\n",
      "4790/4790 [==============================] - 161s 34ms/step - loss: 0.62060s - loss: 0.62\n",
      "Epoch 3/10\n",
      "4790/4790 [==============================] - 156s 33ms/step - loss: 0.3195\n",
      "Epoch 4/10\n",
      "4790/4790 [==============================] - 158s 33ms/step - loss: 0.2097\n",
      "Epoch 5/10\n",
      "4790/4790 [==============================] - 160s 33ms/step - loss: 0.1664\n",
      "Epoch 6/10\n",
      "4790/4790 [==============================] - 162s 34ms/step - loss: 0.1386\n",
      "Epoch 7/10\n",
      "4790/4790 [==============================] - 158s 33ms/step - loss: 0.1242\n",
      "Epoch 8/10\n",
      "4790/4790 [==============================] - 154s 32ms/step - loss: 0.1118\n",
      "Epoch 9/10\n",
      "4790/4790 [==============================] - 153s 32ms/step - loss: 0.1004\n",
      "Epoch 10/10\n",
      "4790/4790 [==============================] - 154s 32ms/step - loss: 0.09260s - loss: 0.092\n"
     ]
    },
    {
     "data": {
      "image/png": "[encoded data removed]",
      "text/plain": [
       "<Figure size 432x288 with 1 Axes>"
      ]
     },
     "metadata": {
      "needs_background": "light"
     },
     "output_type": "display_data"
    }
   ],
   "source": [
    "model = Neural_CF_Model(embed_size=50)\n",
    "history = model.fit([train_data['user_encoded'], train_data['movie_encoded']], train_data['rating'], epochs=10)\n",
    "pd.Series(history.history['loss']).plot(logy=True)\n",
    "plt.xlabel(\"Epoch\")\n",
    "plt.ylabel(\"Train Error\")\n",
    "plt.show()"
   ]
  },
  {
   "cell_type": "code",
   "execution_count": 47,
   "metadata": {},
   "outputs": [
    {
     "name": "stdout",
     "output_type": "stream",
     "text": [
      "testing rms: 0.20346602272322162\n"
     ]
    }
   ],
   "source": [
    "y_pred = np.round(model.predict([test_data['user_encoded'], test_data['movie_encoded']]), decimals=2)\n",
    "y_actual = test_data['rating']\n",
    "print(f'testing rms: {(mean_squared_error(y_actual, y_pred))}')"
   ]
  },
  {
   "cell_type": "code",
   "execution_count": 48,
   "metadata": {},
   "outputs": [
    {
     "data": {
      "text/html": [
       "<div>\n",
       "<style scoped>\n",
       "    .dataframe tbody tr th:only-of-type {\n",
       "        vertical-align: middle;\n",
       "    }\n",
       "\n",
       "    .dataframe tbody tr th {\n",
       "        vertical-align: top;\n",
       "    }\n",
       "\n",
       "    .dataframe thead th {\n",
       "        text-align: right;\n",
       "    }\n",
       "</style>\n",
       "<table border=\"1\" class=\"dataframe\">\n",
       "  <thead>\n",
       "    <tr style=\"text-align: right;\">\n",
       "      <th></th>\n",
       "      <th>prediction</th>\n",
       "      <th>true_value</th>\n",
       "    </tr>\n",
       "  </thead>\n",
       "  <tbody>\n",
       "    <tr>\n",
       "      <th>0</th>\n",
       "      <td>[3.2300000190734863]</td>\n",
       "      <td>3.0</td>\n",
       "    </tr>\n",
       "    <tr>\n",
       "      <th>1</th>\n",
       "      <td>[4.400000095367432]</td>\n",
       "      <td>4.5</td>\n",
       "    </tr>\n",
       "    <tr>\n",
       "      <th>2</th>\n",
       "      <td>[3.859999895095825]</td>\n",
       "      <td>3.5</td>\n",
       "    </tr>\n",
       "    <tr>\n",
       "      <th>3</th>\n",
       "      <td>[4.599999904632568]</td>\n",
       "      <td>4.0</td>\n",
       "    </tr>\n",
       "    <tr>\n",
       "      <th>4</th>\n",
       "      <td>[5.210000038146973]</td>\n",
       "      <td>3.5</td>\n",
       "    </tr>\n",
       "  </tbody>\n",
       "</table>\n",
       "</div>"
      ],
      "text/plain": [
       "             prediction  true_value\n",
       "0  [3.2300000190734863]         3.0\n",
       "1   [4.400000095367432]         4.5\n",
       "2   [3.859999895095825]         3.5\n",
       "3   [4.599999904632568]         4.0\n",
       "4   [5.210000038146973]         3.5"
      ]
     },
     "execution_count": 48,
     "metadata": {},
     "output_type": "execute_result"
    }
   ],
   "source": [
    "d = {'prediction': y_pred.tolist(), 'true_value': y_actual.tolist()}\n",
    "test_pred = pd.DataFrame(d)\n",
    "test_pred.head(5)"
   ]
  },
  {
   "cell_type": "code",
   "execution_count": 49,
   "metadata": {},
   "outputs": [],
   "source": [
    "user_counts = user_data.groupby('userId').size()"
   ]
  },
  {
   "cell_type": "code",
   "execution_count": 50,
   "metadata": {},
   "outputs": [
    {
     "data": {
      "text/plain": [
       "[(0.0, 600.0),\n",
       " (0.0, 400.0),\n",
       " Text(0.5, 1.0, 'User Ratings'),\n",
       " Text(0.5, 0, 'Number of Ratings')]"
      ]
     },
     "execution_count": 50,
     "metadata": {},
     "output_type": "execute_result"
    },
    {
     "data": {
      "image/png": "[encoded data removed]",
      "text/plain": [
       "<Figure size 576x432 with 1 Axes>"
      ]
     },
     "metadata": {
      "needs_background": "light"
     },
     "output_type": "display_data"
    }
   ],
   "source": [
    "fig, ax = plt.subplots(figsize=(8, 6))\n",
    "sns.set_style('whitegrid')\n",
    "sns.histplot(user_counts, binwidth=20, ax=ax)\n",
    "ax.set(ylim=[0,600], xlim=[0,400], title='User Ratings', xlabel='Number of Ratings')"
   ]
  },
  {
   "cell_type": "code",
   "execution_count": 51,
   "metadata": {},
   "outputs": [],
   "source": [
    "from sklearn.model_selection import KFold\n",
    "valid_data_size = 10\n",
    "valid_data = train_data.sample(n = int(valid_data_size), replace=False, random_state=236)\n",
    "embedding_layers = [5, 10, 15, 20, 25, 30]"
   ]
  },
  {
   "cell_type": "code",
   "execution_count": 52,
   "metadata": {},
   "outputs": [],
   "source": [
    "def NCF_cross_validation(cross_val_data, embedded_layers, drop_prob = 0.3, epoch=3, n_split=3):\n",
    "    cross_val_res = []\n",
    "    for layer in embedded_layers:\n",
    "        loss = []\n",
    "        i = 0\n",
    "        for train_index, test_index in KFold(n_split).split(cross_val_data):\n",
    "            cross_val_train_data = cross_val_data.iloc[train_index][['user_encoded', 'movie_encoded']]\n",
    "            cross_val_test_data = cross_val_data.iloc[test_index][['user_encoded', 'movie_encoded']]\n",
    "            cross_val_train_data_y = cross_val_data.iloc[train_index]['rating']\n",
    "            cross_val_test_data_y = cross_val_data.iloc[test_index]['rating']\n",
    "            model_cv = Neural_CF_Model()\n",
    "            model_cv.fit([cross_val_train_data['user_encoded'], cross_val_train_data['movie_encoded']], cross_val_train_data_y, epochs=epoch)\n",
    "            curr_loss = model_cv.evaluate([cross_val_data['user_encoded'], cross_val_data['movie_encoded']], cross_val_data['rating'])\n",
    "            loss.append(curr_loss)\n",
    "            i += 1\n",
    "        cross_val_res.append(sum(loss) / n_split)\n",
    "    return cross_val_res"
   ]
  },
  {
   "cell_type": "code",
   "execution_count": 53,
   "metadata": {},
   "outputs": [],
   "source": [
    "def NCF_recommendation(rec_model, client_id, top_k = 20):\n",
    "    client_encoded = user_en[client_id]\n",
    "    movie_watched = user_data[user_data['userId'] == client_id]['movieId'].values\n",
    "    movie_poll_encoded = []\n",
    "    for item in movie_ids:\n",
    "        if not np.isin(item, movie_watched):\n",
    "            movie_poll_encoded.append(movie_en[item])\n",
    "    d = {'user_encoded': [client_encoded] * len(movie_poll_encoded), 'movie_encoded' : movie_poll_encoded}\n",
    "    client_df = pd.DataFrame(d)\n",
    "    ratings = rec_model.predict([client_df['user_encoded'], client_df['movie_encoded']])\n",
    "    top_ratings_idx = ratings.flatten().argsort()[-top_k:][::-1]\n",
    "    top_ratings = ratings[top_ratings_idx].flatten()\n",
    "    recommend_movieId = [en_movie.get(movie_poll_encoded[x]) for x in top_ratings_idx]\n",
    "    top_movie_rec = pd.DataFrame({'movieId': recommend_movieId, 'prediction': top_ratings}).set_index('movieId')\n",
    "    top_movie_rec = top_movie_rec.join(movie_data.set_index('movieId'))\n",
    "    return top_movie_rec"
   ]
  },
  {
   "cell_type": "code",
   "execution_count": 54,
   "metadata": {},
   "outputs": [
    {
     "name": "stdout",
     "output_type": "stream",
     "text": [
      "recommendation for client: 1542\n"
     ]
    },
    {
     "data": {
      "text/html": [
       "<div>\n",
       "<style scoped>\n",
       "    .dataframe tbody tr th:only-of-type {\n",
       "        vertical-align: middle;\n",
       "    }\n",
       "\n",
       "    .dataframe tbody tr th {\n",
       "        vertical-align: top;\n",
       "    }\n",
       "\n",
       "    .dataframe thead th {\n",
       "        text-align: right;\n",
       "    }\n",
       "</style>\n",
       "<table border=\"1\" class=\"dataframe\">\n",
       "  <thead>\n",
       "    <tr style=\"text-align: right;\">\n",
       "      <th></th>\n",
       "      <th>prediction</th>\n",
       "      <th>title</th>\n",
       "      <th>genres</th>\n",
       "    </tr>\n",
       "    <tr>\n",
       "      <th>movieId</th>\n",
       "      <th></th>\n",
       "      <th></th>\n",
       "      <th></th>\n",
       "    </tr>\n",
       "  </thead>\n",
       "  <tbody>\n",
       "    <tr>\n",
       "      <th>1104</th>\n",
       "      <td>4.766817</td>\n",
       "      <td>Streetcar Named Desire, A (1951)</td>\n",
       "      <td>Drama</td>\n",
       "    </tr>\n",
       "    <tr>\n",
       "      <th>82459</th>\n",
       "      <td>4.716903</td>\n",
       "      <td>True Grit (2010)</td>\n",
       "      <td>Western</td>\n",
       "    </tr>\n",
       "    <tr>\n",
       "      <th>1947</th>\n",
       "      <td>4.627192</td>\n",
       "      <td>West Side Story (1961)</td>\n",
       "      <td>Drama|Musical|Romance</td>\n",
       "    </tr>\n",
       "    <tr>\n",
       "      <th>541</th>\n",
       "      <td>4.603656</td>\n",
       "      <td>Blade Runner (1982)</td>\n",
       "      <td>Action|Sci-Fi|Thriller</td>\n",
       "    </tr>\n",
       "    <tr>\n",
       "      <th>475</th>\n",
       "      <td>4.603393</td>\n",
       "      <td>In the Name of the Father (1993)</td>\n",
       "      <td>Drama</td>\n",
       "    </tr>\n",
       "    <tr>\n",
       "      <th>2857</th>\n",
       "      <td>4.554109</td>\n",
       "      <td>Yellow Submarine (1968)</td>\n",
       "      <td>Adventure|Animation|Comedy|Fantasy|Musical</td>\n",
       "    </tr>\n",
       "    <tr>\n",
       "      <th>16</th>\n",
       "      <td>4.551898</td>\n",
       "      <td>Casino (1995)</td>\n",
       "      <td>Crime|Drama</td>\n",
       "    </tr>\n",
       "    <tr>\n",
       "      <th>1147</th>\n",
       "      <td>4.510539</td>\n",
       "      <td>When We Were Kings (1996)</td>\n",
       "      <td>Documentary</td>\n",
       "    </tr>\n",
       "    <tr>\n",
       "      <th>5952</th>\n",
       "      <td>4.489670</td>\n",
       "      <td>Lord of the Rings: The Two Towers, The (2002)</td>\n",
       "      <td>Adventure|Fantasy</td>\n",
       "    </tr>\n",
       "    <tr>\n",
       "      <th>1235</th>\n",
       "      <td>4.453709</td>\n",
       "      <td>Harold and Maude (1971)</td>\n",
       "      <td>Comedy|Drama|Romance</td>\n",
       "    </tr>\n",
       "    <tr>\n",
       "      <th>1125</th>\n",
       "      <td>4.396084</td>\n",
       "      <td>Return of the Pink Panther, The (1975)</td>\n",
       "      <td>Comedy|Crime</td>\n",
       "    </tr>\n",
       "    <tr>\n",
       "      <th>5992</th>\n",
       "      <td>4.383733</td>\n",
       "      <td>Hours, The (2002)</td>\n",
       "      <td>Drama|Romance</td>\n",
       "    </tr>\n",
       "    <tr>\n",
       "      <th>1173</th>\n",
       "      <td>4.382648</td>\n",
       "      <td>Cook the Thief His Wife &amp; Her Lover, The (1989)</td>\n",
       "      <td>Comedy|Drama</td>\n",
       "    </tr>\n",
       "    <tr>\n",
       "      <th>112290</th>\n",
       "      <td>4.364007</td>\n",
       "      <td>Boyhood (2014)</td>\n",
       "      <td>Drama</td>\n",
       "    </tr>\n",
       "    <tr>\n",
       "      <th>2318</th>\n",
       "      <td>4.346974</td>\n",
       "      <td>Happiness (1998)</td>\n",
       "      <td>Comedy|Drama</td>\n",
       "    </tr>\n",
       "  </tbody>\n",
       "</table>\n",
       "</div>"
      ],
      "text/plain": [
       "         prediction                                            title  \\\n",
       "movieId                                                                \n",
       "1104       4.766817                 Streetcar Named Desire, A (1951)   \n",
       "82459      4.716903                                 True Grit (2010)   \n",
       "1947       4.627192                           West Side Story (1961)   \n",
       "541        4.603656                              Blade Runner (1982)   \n",
       "475        4.603393                 In the Name of the Father (1993)   \n",
       "2857       4.554109                          Yellow Submarine (1968)   \n",
       "16         4.551898                                    Casino (1995)   \n",
       "1147       4.510539                        When We Were Kings (1996)   \n",
       "5952       4.489670    Lord of the Rings: The Two Towers, The (2002)   \n",
       "1235       4.453709                          Harold and Maude (1971)   \n",
       "1125       4.396084           Return of the Pink Panther, The (1975)   \n",
       "5992       4.383733                                Hours, The (2002)   \n",
       "1173       4.382648  Cook the Thief His Wife & Her Lover, The (1989)   \n",
       "112290     4.364007                                   Boyhood (2014)   \n",
       "2318       4.346974                                 Happiness (1998)   \n",
       "\n",
       "                                             genres  \n",
       "movieId                                              \n",
       "1104                                          Drama  \n",
       "82459                                       Western  \n",
       "1947                          Drama|Musical|Romance  \n",
       "541                          Action|Sci-Fi|Thriller  \n",
       "475                                           Drama  \n",
       "2857     Adventure|Animation|Comedy|Fantasy|Musical  \n",
       "16                                      Crime|Drama  \n",
       "1147                                    Documentary  \n",
       "5952                              Adventure|Fantasy  \n",
       "1235                           Comedy|Drama|Romance  \n",
       "1125                                   Comedy|Crime  \n",
       "5992                                  Drama|Romance  \n",
       "1173                                   Comedy|Drama  \n",
       "112290                                        Drama  \n",
       "2318                                   Comedy|Drama  "
      ]
     },
     "execution_count": 54,
     "metadata": {},
     "output_type": "execute_result"
    }
   ],
   "source": [
    "user_enter_id = int(np.random.choice(user_ID, 1))\n",
    "print(f'recommendation for client: {user_enter_id}')\n",
    "NCF_recommendation(model, user_enter_id, top_k=15)"
   ]
  }
 ],
 "metadata": {
  "interpreter": {
   "hash": "f6246b25e200e4c5124e3e61789ac81350562f0761bbcf92ad9e48654207659c"
  },
  "kernelspec": {
   "display_name": "Python 3.9.5 64-bit",
   "language": "python",
   "name": "python3"
  },
  "language_info": {
   "codemirror_mode": {
    "name": "ipython",
    "version": 3
   },
   "file_extension": ".py",
   "mimetype": "text/x-python",
   "name": "python",
   "nbconvert_exporter": "python",
   "pygments_lexer": "ipython3",
   "version": "3.9.5"
  },
  "orig_nbformat": 4
 },
 "nbformat": 4,
 "nbformat_minor": 2
}
